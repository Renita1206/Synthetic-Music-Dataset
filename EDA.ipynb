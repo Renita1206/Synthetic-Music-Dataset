{
 "cells": [
  {
   "cell_type": "code",
   "execution_count": 1,
   "id": "985cd3bf",
   "metadata": {},
   "outputs": [],
   "source": [
    "import pandas as pd"
   ]
  },
  {
   "cell_type": "code",
   "execution_count": 128,
   "id": "adc62214",
   "metadata": {},
   "outputs": [],
   "source": [
    "music = pd.read_csv(\"music.csv\")\n",
    "music = music.sample(frac = 1)\n",
    "#music.head()"
   ]
  },
  {
   "cell_type": "code",
   "execution_count": 157,
   "id": "d420b3d2",
   "metadata": {},
   "outputs": [
    {
     "name": "stdout",
     "output_type": "stream",
     "text": [
      "['pop', 'blues', 'country', 'jazz', 'rock', 'hip hop', 'reggae']\n"
     ]
    }
   ],
   "source": [
    "unique_genres = music[\"genre\"].unique().tolist()\n",
    "print(unique_genres)"
   ]
  },
  {
   "cell_type": "code",
   "execution_count": 209,
   "id": "44712db1",
   "metadata": {},
   "outputs": [],
   "source": [
    "tracks = music[\"track_name\"].unique().tolist()[0:994]"
   ]
  },
  {
   "cell_type": "code",
   "execution_count": 210,
   "id": "1d11083f",
   "metadata": {},
   "outputs": [],
   "source": [
    "df = pd.DataFrame(columns = ['id', 'label', 'name', '_start', '_end', '_type', 'rating'])"
   ]
  },
  {
   "cell_type": "code",
   "execution_count": 211,
   "id": "166e04d4",
   "metadata": {},
   "outputs": [],
   "source": [
    "for i in range(0,7):\n",
    "    df.loc[i] = [i, \":genre\", unique_genres[i], '', '', '', '']"
   ]
  },
  {
   "cell_type": "code",
   "execution_count": 212,
   "id": "a38ee1ff",
   "metadata": {},
   "outputs": [],
   "source": [
    "for i in range(7, 1001):\n",
    "\tdf.loc[i] = [i, \":track\", tracks[i-7], '', '', '', '']\n",
    "    "
   ]
  },
  {
   "cell_type": "code",
   "execution_count": 215,
   "id": "7fbf4c80",
   "metadata": {},
   "outputs": [
    {
     "data": {
      "text/html": [
       "<div>\n",
       "<style scoped>\n",
       "    .dataframe tbody tr th:only-of-type {\n",
       "        vertical-align: middle;\n",
       "    }\n",
       "\n",
       "    .dataframe tbody tr th {\n",
       "        vertical-align: top;\n",
       "    }\n",
       "\n",
       "    .dataframe thead th {\n",
       "        text-align: right;\n",
       "    }\n",
       "</style>\n",
       "<table border=\"1\" class=\"dataframe\">\n",
       "  <thead>\n",
       "    <tr style=\"text-align: right;\">\n",
       "      <th></th>\n",
       "      <th>id</th>\n",
       "      <th>label</th>\n",
       "      <th>name</th>\n",
       "      <th>_start</th>\n",
       "      <th>_end</th>\n",
       "      <th>_type</th>\n",
       "      <th>rating</th>\n",
       "    </tr>\n",
       "  </thead>\n",
       "  <tbody>\n",
       "    <tr>\n",
       "      <th>991</th>\n",
       "      <td>991</td>\n",
       "      <td>:track</td>\n",
       "      <td>almond tree</td>\n",
       "      <td></td>\n",
       "      <td></td>\n",
       "      <td></td>\n",
       "      <td></td>\n",
       "    </tr>\n",
       "    <tr>\n",
       "      <th>992</th>\n",
       "      <td>992</td>\n",
       "      <td>:track</td>\n",
       "      <td>corduroy road</td>\n",
       "      <td></td>\n",
       "      <td></td>\n",
       "      <td></td>\n",
       "      <td></td>\n",
       "    </tr>\n",
       "    <tr>\n",
       "      <th>993</th>\n",
       "      <td>993</td>\n",
       "      <td>:track</td>\n",
       "      <td>fighting my way back</td>\n",
       "      <td></td>\n",
       "      <td></td>\n",
       "      <td></td>\n",
       "      <td></td>\n",
       "    </tr>\n",
       "    <tr>\n",
       "      <th>994</th>\n",
       "      <td>994</td>\n",
       "      <td>:track</td>\n",
       "      <td>you're gone</td>\n",
       "      <td></td>\n",
       "      <td></td>\n",
       "      <td></td>\n",
       "      <td></td>\n",
       "    </tr>\n",
       "    <tr>\n",
       "      <th>995</th>\n",
       "      <td>995</td>\n",
       "      <td>:track</td>\n",
       "      <td>platinum</td>\n",
       "      <td></td>\n",
       "      <td></td>\n",
       "      <td></td>\n",
       "      <td></td>\n",
       "    </tr>\n",
       "    <tr>\n",
       "      <th>996</th>\n",
       "      <td>996</td>\n",
       "      <td>:track</td>\n",
       "      <td>shutters and boards</td>\n",
       "      <td></td>\n",
       "      <td></td>\n",
       "      <td></td>\n",
       "      <td></td>\n",
       "    </tr>\n",
       "    <tr>\n",
       "      <th>997</th>\n",
       "      <td>997</td>\n",
       "      <td>:track</td>\n",
       "      <td>vivo hip hop (live)</td>\n",
       "      <td></td>\n",
       "      <td></td>\n",
       "      <td></td>\n",
       "      <td></td>\n",
       "    </tr>\n",
       "    <tr>\n",
       "      <th>998</th>\n",
       "      <td>998</td>\n",
       "      <td>:track</td>\n",
       "      <td>still unbroken</td>\n",
       "      <td></td>\n",
       "      <td></td>\n",
       "      <td></td>\n",
       "      <td></td>\n",
       "    </tr>\n",
       "    <tr>\n",
       "      <th>999</th>\n",
       "      <td>999</td>\n",
       "      <td>:track</td>\n",
       "      <td>hyper-ballad</td>\n",
       "      <td></td>\n",
       "      <td></td>\n",
       "      <td></td>\n",
       "      <td></td>\n",
       "    </tr>\n",
       "    <tr>\n",
       "      <th>1000</th>\n",
       "      <td>1000</td>\n",
       "      <td>:track</td>\n",
       "      <td>the ectopic stroll</td>\n",
       "      <td></td>\n",
       "      <td></td>\n",
       "      <td></td>\n",
       "      <td></td>\n",
       "    </tr>\n",
       "  </tbody>\n",
       "</table>\n",
       "</div>"
      ],
      "text/plain": [
       "        id   label                  name _start _end _type rating\n",
       "991    991  :track           almond tree                         \n",
       "992    992  :track         corduroy road                         \n",
       "993    993  :track  fighting my way back                         \n",
       "994    994  :track           you're gone                         \n",
       "995    995  :track              platinum                         \n",
       "996    996  :track   shutters and boards                         \n",
       "997    997  :track   vivo hip hop (live)                         \n",
       "998    998  :track        still unbroken                         \n",
       "999    999  :track          hyper-ballad                         \n",
       "1000  1000  :track    the ectopic stroll                         "
      ]
     },
     "execution_count": 215,
     "metadata": {},
     "output_type": "execute_result"
    }
   ],
   "source": [
    "df.tail(10)"
   ]
  },
  {
   "cell_type": "code",
   "execution_count": 121,
   "id": "a9e9bead",
   "metadata": {},
   "outputs": [],
   "source": [
    "#for i in range(1001, 1301):\n",
    "#\tdf.loc[i] = [i, \":user\", name[\"name\"][i - 1001], '', '', '', '']"
   ]
  },
  {
   "cell_type": "code",
   "execution_count": 216,
   "id": "202af486",
   "metadata": {},
   "outputs": [],
   "source": [
    "genres = []\n",
    "row_no = 1001"
   ]
  },
  {
   "cell_type": "code",
   "execution_count": 217,
   "id": "27f35df2",
   "metadata": {
    "scrolled": false
   },
   "outputs": [],
   "source": [
    "for i in tracks:\n",
    "    #genres.append(music.loc[music['track_name'] == i]['genre'].iat[0])\n",
    "    df.loc[row_no] = [ '', '', '', df.loc[df['name'] == i]['id'].iat[0], unique_genres.index(music.loc[music['track_name'] == i]['genre'].iat[0]), 'BELONGS_TO', '']\n",
    "    row_no+=1"
   ]
  },
  {
   "cell_type": "code",
   "execution_count": 218,
   "id": "63f0b98b",
   "metadata": {},
   "outputs": [
    {
     "data": {
      "text/html": [
       "<div>\n",
       "<style scoped>\n",
       "    .dataframe tbody tr th:only-of-type {\n",
       "        vertical-align: middle;\n",
       "    }\n",
       "\n",
       "    .dataframe tbody tr th {\n",
       "        vertical-align: top;\n",
       "    }\n",
       "\n",
       "    .dataframe thead th {\n",
       "        text-align: right;\n",
       "    }\n",
       "</style>\n",
       "<table border=\"1\" class=\"dataframe\">\n",
       "  <thead>\n",
       "    <tr style=\"text-align: right;\">\n",
       "      <th></th>\n",
       "      <th>id</th>\n",
       "      <th>label</th>\n",
       "      <th>name</th>\n",
       "      <th>_start</th>\n",
       "      <th>_end</th>\n",
       "      <th>_type</th>\n",
       "      <th>rating</th>\n",
       "    </tr>\n",
       "  </thead>\n",
       "  <tbody>\n",
       "    <tr>\n",
       "      <th>1988</th>\n",
       "      <td></td>\n",
       "      <td></td>\n",
       "      <td></td>\n",
       "      <td>994</td>\n",
       "      <td>2</td>\n",
       "      <td>BELONGS_TO</td>\n",
       "      <td></td>\n",
       "    </tr>\n",
       "    <tr>\n",
       "      <th>1989</th>\n",
       "      <td></td>\n",
       "      <td></td>\n",
       "      <td></td>\n",
       "      <td>995</td>\n",
       "      <td>2</td>\n",
       "      <td>BELONGS_TO</td>\n",
       "      <td></td>\n",
       "    </tr>\n",
       "    <tr>\n",
       "      <th>1990</th>\n",
       "      <td></td>\n",
       "      <td></td>\n",
       "      <td></td>\n",
       "      <td>996</td>\n",
       "      <td>3</td>\n",
       "      <td>BELONGS_TO</td>\n",
       "      <td></td>\n",
       "    </tr>\n",
       "    <tr>\n",
       "      <th>1991</th>\n",
       "      <td></td>\n",
       "      <td></td>\n",
       "      <td></td>\n",
       "      <td>997</td>\n",
       "      <td>5</td>\n",
       "      <td>BELONGS_TO</td>\n",
       "      <td></td>\n",
       "    </tr>\n",
       "    <tr>\n",
       "      <th>1992</th>\n",
       "      <td></td>\n",
       "      <td></td>\n",
       "      <td></td>\n",
       "      <td>998</td>\n",
       "      <td>1</td>\n",
       "      <td>BELONGS_TO</td>\n",
       "      <td></td>\n",
       "    </tr>\n",
       "    <tr>\n",
       "      <th>1993</th>\n",
       "      <td></td>\n",
       "      <td></td>\n",
       "      <td></td>\n",
       "      <td>999</td>\n",
       "      <td>0</td>\n",
       "      <td>BELONGS_TO</td>\n",
       "      <td></td>\n",
       "    </tr>\n",
       "    <tr>\n",
       "      <th>1994</th>\n",
       "      <td></td>\n",
       "      <td></td>\n",
       "      <td></td>\n",
       "      <td>1000</td>\n",
       "      <td>3</td>\n",
       "      <td>BELONGS_TO</td>\n",
       "      <td></td>\n",
       "    </tr>\n",
       "  </tbody>\n",
       "</table>\n",
       "</div>"
      ],
      "text/plain": [
       "     id label name _start _end       _type rating\n",
       "1988                  994    2  BELONGS_TO       \n",
       "1989                  995    2  BELONGS_TO       \n",
       "1990                  996    3  BELONGS_TO       \n",
       "1991                  997    5  BELONGS_TO       \n",
       "1992                  998    1  BELONGS_TO       \n",
       "1993                  999    0  BELONGS_TO       \n",
       "1994                 1000    3  BELONGS_TO       "
      ]
     },
     "execution_count": 218,
     "metadata": {},
     "output_type": "execute_result"
    }
   ],
   "source": [
    "#unique_genres.index(music.loc[music['track_name'] == 'she loves the way they love her']['genre'].iat[0]) #-> id of genre\n",
    "#df.loc[df['name'] == 'she loves the way they love her']['id'].iat[0] #-> id of track name\n",
    "df.tail(7)"
   ]
  },
  {
   "cell_type": "code",
   "execution_count": 220,
   "id": "62bc6abc",
   "metadata": {},
   "outputs": [],
   "source": [
    "df.to_csv('graph_dataset.csv')"
   ]
  },
  {
   "cell_type": "code",
   "execution_count": null,
   "id": "2d313f49",
   "metadata": {},
   "outputs": [],
   "source": []
  }
 ],
 "metadata": {
  "kernelspec": {
   "display_name": "Python 3",
   "language": "python",
   "name": "python3"
  },
  "language_info": {
   "codemirror_mode": {
    "name": "ipython",
    "version": 3
   },
   "file_extension": ".py",
   "mimetype": "text/x-python",
   "name": "python",
   "nbconvert_exporter": "python",
   "pygments_lexer": "ipython3",
   "version": "3.8.8"
  }
 },
 "nbformat": 4,
 "nbformat_minor": 5
}
